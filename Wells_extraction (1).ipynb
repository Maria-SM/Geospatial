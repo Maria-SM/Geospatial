{
 "cells": [
  {
   "cell_type": "code",
   "execution_count": null,
   "metadata": {},
   "outputs": [],
   "source": [
    "import cv2\n",
    "import numpy as np"
   ]
  },
  {
   "cell_type": "code",
   "execution_count": null,
   "metadata": {},
   "outputs": [],
   "source": [
    "def nothing (x):\n",
    "    pass\n",
    "\n",
    "#Display Trackbars and setting limit values\n",
    "cv2.namedWindow('colors')\n",
    "cv2.resizeWindow('colors', 600, 250)\n",
    "cv2.createTrackbar('LH', 'colors', 0, 255, nothing)\n",
    "cv2.createTrackbar('MH', 'colors', 255, 255, nothing)\n",
    "cv2.createTrackbar('LS', 'colors', 0, 255, nothing)\n",
    "cv2.createTrackbar('MS', 'colors', 255, 255, nothing)\n",
    "cv2.createTrackbar('LV', 'colors', 0, 255, nothing)\n",
    "cv2.createTrackbar('MV', 'colors', 255, 255, nothing)\n",
    "\n",
    "while True:\n",
    "    image = cv2.imread('C:/Users/marsu/OneDrive/Cambridge_University_Work/Work/clipped.jpg')\n",
    "    \n",
    "    l_h = cv2.getTrackbarPos('LH', 'colors')\n",
    "    m_h = cv2.getTrackbarPos('MH', 'colors')    \n",
    "    l_s = cv2.getTrackbarPos('LS', 'colors')\n",
    "    m_s = cv2.getTrackbarPos('MS', 'colors')    \n",
    "    l_v = cv2.getTrackbarPos('LV', 'colors')\n",
    "    m_v = cv2.getTrackbarPos('MV', 'colors')\n",
    "    \n",
    "    print(l_h, m_h, l_s, m_s, l_v, m_v)\n",
    "    \n",
    "    lower= np.array([l_h, l_s, l_v])\n",
    "    upper= np.array([m_h, m_s, m_v])\n",
    "    \n",
    "    mask = cv2.inRange(image, lower, upper)\n",
    "    final_result = cv2.bitwise_and(image, image, mask=mask)\n",
    "    \n",
    "    #resize output windows\n",
    "    cv2.namedWindow(\"Output\", cv2.WINDOW_NORMAL)\n",
    "    cv2.resizeWindow(\"Output\", 500, 500)\n",
    "    cv2.namedWindow(\"final output\", cv2.WINDOW_NORMAL)\n",
    "    cv2.resizeWindow(\"final output\", 500, 500)\n",
    "    cv2.namedWindow(\"Mask\", cv2.WINDOW_NORMAL)\n",
    "    cv2.resizeWindow(\"Mask\", 500, 500)\n",
    "    \n",
    "    #outputs\n",
    "    cv2.imshow('final output', final_result)\n",
    "    cv2.imshow('Mask', mask)\n",
    "    cv2.imshow('Output', image)\n",
    "    \n",
    "    key = cv2.waitKey(1)\n",
    "    if key == 27:\n",
    "        break\n",
    "\n",
    "cv2.imwrite('result.tif',resultSkeletonF)\n",
    "cv2.destroyAllWindows()"
   ]
  }
 ],
 "metadata": {
  "kernelspec": {
   "display_name": "Python 3",
   "language": "python",
   "name": "python3"
  },
  "language_info": {
   "codemirror_mode": {
    "name": "ipython",
    "version": 3
   },
   "file_extension": ".py",
   "mimetype": "text/x-python",
   "name": "python",
   "nbconvert_exporter": "python",
   "pygments_lexer": "ipython3",
   "version": "3.8.5"
  }
 },
 "nbformat": 4,
 "nbformat_minor": 4
}
